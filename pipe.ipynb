{
 "cells": [
  {
   "cell_type": "code",
   "execution_count": null,
   "metadata": {},
   "outputs": [],
   "source": [
    "import pandas as pd\n",
    "import sqlite3\n",
    "from newsapi import NewsApiClient\n",
    "import logging\n",
    "news_api=NewsApiClient(api_key=\"7bcfaa6d966c420499afe97225ed186b\")\n",
    "from datetime import datetime, timedelta, time\n",
    "from airflow import DAG\n",
    "from airflow.operators.python import PythonOperator"
   ]
  },
  {
   "cell_type": "code",
   "execution_count": null,
   "metadata": {},
   "outputs": [],
   "source": [
    "def extract():\n",
    "    try:\n",
    "        result = news_api.get_everything(q = \"AI\", language=\"en\",sort_by = \"publishedAt\")\n",
    "        logging.info(\"Connection is successful.\")\n",
    "        return result[\"articles\"]\n",
    "    except:\n",
    "        logging.error(\"Connection Unsuccessful\")\n",
    "        return \n",
    "    \n",
    "articles = extract()\n",
    "print(articles)"
   ]
  },
  {
   "cell_type": "code",
   "execution_count": null,
   "metadata": {},
   "outputs": [],
   "source": [
    "def cleanauthor_column(text):\n",
    "    try:\n",
    "        text.split(',')[0].title()\n",
    "    except:\n",
    "        print(\"No author\")"
   ]
  },
  {
   "cell_type": "code",
   "execution_count": null,
   "metadata": {},
   "outputs": [],
   "source": [
    "def transform_news_data(articles):\n",
    "        article_list=[]\n",
    "        for i in articles:\n",
    "                article_list.append([val.get(\"name\",0) if  key =='source' else val for key,val in i.items() if key in [\"author\",\"title\",\"publishedAt\",\"content\",\"url\",\"source\"]])\n",
    "                df = pd.DataFrame(article_list,columns = [\"Source\",'Author Name','News Title','URL','Date Published','Content'])\n",
    "                df['Date Published'] = pd.to_datetime(df['Date Published']).dt.strftime('%Y-%m-%d %H:%M:%S')\n",
    "                df[\"Author Name\"] = df[\"Author Name\"].apply(cleanauthor_column)\n",
    "                return df\n",
    "transformed = transform_news_data(articles)\n",
    "print(transformed)"
   ]
  },
  {
   "cell_type": "code",
   "execution_count": null,
   "metadata": {},
   "outputs": [],
   "source": [
    "def load_news_data(data):\n",
    "    with sqlite3.connect(\"/usercode/news_data.sqlite\") as connection:\n",
    "        cursor = connection.cursor()\n",
    "        cursor.execute('''\n",
    "            CREATE TABLE IF NOT EXISTS news(\n",
    "                \"Source\" VARCHAR(30),\n",
    "                \"Author Name\" Varchar(50),\n",
    "                \"News Title\" text,\n",
    "                \"URL\" text,\n",
    "                \"Date Published\" Text,\n",
    "                \"Content\" Text\n",
    "            )\n",
    "            \n",
    "            ''')\n",
    "        data.to_sql(name = \"news\",con = connection, index= False, if_exists = \"append\")\n",
    "load_news_data(transformed)\n"
   ]
  },
  {
   "cell_type": "code",
   "execution_count": null,
   "metadata": {},
   "outputs": [],
   "source": [
    "with sqlite3.connect(\"/usercode/news_data.sqlite\") as connection:\n",
    "    df = pd.read_sql(\"SELECT * FROM news;\", connection)\n",
    "df.head()"
   ]
  },
  {
   "cell_type": "code",
   "execution_count": null,
   "metadata": {},
   "outputs": [],
   "source": []
  },
  {
   "cell_type": "code",
   "execution_count": null,
   "metadata": {},
   "outputs": [],
   "source": []
  }
 ],
 "metadata": {
  "language_info": {
   "name": "python"
  }
 },
 "nbformat": 4,
 "nbformat_minor": 2
}
